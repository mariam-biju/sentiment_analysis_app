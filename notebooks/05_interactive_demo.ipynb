{
 "cells": [
  {
   "cell_type": "markdown",
   "id": "e93c93df",
   "metadata": {},
   "source": [
    "# 🧪 Notebook 5: Interactive Sentiment Predictor\n",
    "Enter your own movie review and get instant sentiment prediction using your trained model.\n"
   ]
  },
  {
   "cell_type": "code",
   "execution_count": 1,
   "id": "a55d8ad1",
   "metadata": {},
   "outputs": [],
   "source": [
    "import joblib\n",
    "from sklearn.feature_extraction.text import TfidfVectorizer\n",
    "\n",
    "# Load trained model and vectorizer\n",
    "model = joblib.load('../models/logistic_regression.joblib')\n",
    "vectorizer = joblib.load('../models/vectorizer.joblib')\n"
   ]
  },
  {
   "cell_type": "code",
   "execution_count": 2,
   "id": "d4da2dd1",
   "metadata": {},
   "outputs": [],
   "source": [
    "def predict_sentiment(text):\n",
    "    text_vec = vectorizer.transform([text])\n",
    "    prediction = model.predict(text_vec)[0]\n",
    "    return prediction"
   ]
  },
  {
   "cell_type": "code",
   "execution_count": 3,
   "id": "62291e05",
   "metadata": {},
   "outputs": [
    {
     "data": {
      "application/vnd.jupyter.widget-view+json": {
       "model_id": "66f2c34a1c194ea39279f00035054e75",
       "version_major": 2,
       "version_minor": 0
      },
      "text/plain": [
       "Textarea(value='I absolutely loved the movie! It was amazing.', description='Review:', layout=Layout(height='1…"
      ]
     },
     "metadata": {},
     "output_type": "display_data"
    },
    {
     "data": {
      "application/vnd.jupyter.widget-view+json": {
       "model_id": "7fc11e592e4e4ad7ae7f0ed3066fb496",
       "version_major": 2,
       "version_minor": 0
      },
      "text/plain": [
       "Button(button_style='success', description='Predict Sentiment', style=ButtonStyle())"
      ]
     },
     "metadata": {},
     "output_type": "display_data"
    },
    {
     "data": {
      "application/vnd.jupyter.widget-view+json": {
       "model_id": "2c38fa9c4a32403eac65be2931ec2ffd",
       "version_major": 2,
       "version_minor": 0
      },
      "text/plain": [
       "Output()"
      ]
     },
     "metadata": {},
     "output_type": "display_data"
    }
   ],
   "source": [
    "import ipywidgets as widgets\n",
    "from IPython.display import display, Markdown\n",
    "\n",
    "input_box = widgets.Textarea(\n",
    "    value='I absolutely loved the movie! It was amazing.',\n",
    "    placeholder='Type your movie review here...',\n",
    "    description='Review:',\n",
    "    layout=widgets.Layout(width='100%', height='100px')\n",
    ")\n",
    "\n",
    "button = widgets.Button(description=\"Predict Sentiment\", button_style='success')\n",
    "\n",
    "output = widgets.Output()\n",
    "\n",
    "def on_button_click(b):\n",
    "    output.clear_output()\n",
    "    review = input_box.value\n",
    "    prediction = predict_sentiment(review)\n",
    "    \n",
    "    with output:\n",
    "        if prediction == \"positive\":\n",
    "            display(Markdown(\"✅ **Positive Sentiment** 😊\"))\n",
    "        else:\n",
    "            display(Markdown(\"❌ **Negative Sentiment** 😞\"))\n",
    "\n",
    "button.on_click(on_button_click)\n",
    "\n",
    "display(input_box, button, output)\n"
   ]
  }
 ],
 "metadata": {
  "kernelspec": {
   "display_name": "Python 3",
   "language": "python",
   "name": "python3"
  },
  "language_info": {
   "codemirror_mode": {
    "name": "ipython",
    "version": 3
   },
   "file_extension": ".py",
   "mimetype": "text/x-python",
   "name": "python",
   "nbconvert_exporter": "python",
   "pygments_lexer": "ipython3",
   "version": "3.12.4"
  }
 },
 "nbformat": 4,
 "nbformat_minor": 5
}
